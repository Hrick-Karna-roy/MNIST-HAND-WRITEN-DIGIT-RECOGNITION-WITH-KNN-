{
 "cells": [
  {
   "cell_type": "code",
   "execution_count": 1,
   "id": "586d6be8",
   "metadata": {},
   "outputs": [],
   "source": [
    "import numpy as np\n",
    "import pandas as pd\n",
    "import matplotlib.pyplot as plt"
   ]
  },
  {
   "cell_type": "code",
   "execution_count": 2,
   "id": "2ba45a0e",
   "metadata": {},
   "outputs": [],
   "source": [
    "train_dataframe = pd.read_csv('mnist_train.csv')\n",
    "test_dataframe = pd.read_csv('mnist_test.csv')"
   ]
  },
  {
   "cell_type": "code",
   "execution_count": 3,
   "id": "32a8d501",
   "metadata": {},
   "outputs": [
    {
     "data": {
      "text/plain": [
       "0     7\n",
       "1     2\n",
       "2     1\n",
       "3     0\n",
       "4     4\n",
       "5     1\n",
       "6     4\n",
       "7     9\n",
       "8     5\n",
       "9     9\n",
       "10    0\n",
       "11    6\n",
       "12    9\n",
       "13    0\n",
       "14    1\n",
       "Name: label, dtype: int64"
      ]
     },
     "execution_count": 3,
     "metadata": {},
     "output_type": "execute_result"
    }
   ],
   "source": [
    "train_dataframe.head()\n",
    "test_data = test_dataframe.iloc[:,1:]\n",
    "test_data\n",
    "test_label = test_dataframe.iloc[:,0]\n",
    "test_label.head(15)"
   ]
  },
  {
   "cell_type": "code",
   "execution_count": 4,
   "id": "bf45d24d",
   "metadata": {},
   "outputs": [],
   "source": [
    "images_label = train_dataframe['label']\n"
   ]
  },
  {
   "cell_type": "code",
   "execution_count": 5,
   "id": "f3ef7470",
   "metadata": {},
   "outputs": [
    {
     "data": {
      "text/plain": [
       "array([[  0,   0,   0,   0,   0,   0,   0,   0,   0,   0,   0,   0,   0,\n",
       "          0,   0,   0,   0,   0,   0,   0,   0,   0,   0,   0,   0,   0,\n",
       "          0,   0],\n",
       "       [  0,   0,   0,   0,   0,   0,   0,   0,   0,   0,   0,   0,   0,\n",
       "          0,   0,   0,   0,   0,   0,   0,   0,   0,   0,   0,   0,   0,\n",
       "          0,   0],\n",
       "       [  0,   0,   0,   0,   0,   0,   0,   0,   0,   0,   0,   0,   0,\n",
       "          0,   0,   0,   0,   0,   0,   0,   0,   0,   0,   0,   0,   0,\n",
       "          0,   0],\n",
       "       [  0,   0,   0,   0,   0,   0,   0,   0,   0,   0,   0,   0,   0,\n",
       "          0,   0,   0,   0,   0,   0,   0,   0,   0,   0,   0,   0,   0,\n",
       "          0,   0],\n",
       "       [  0,   0,   0,   0,   0,   0,   0,   0,   0,   0,   0,   0,   0,\n",
       "          0,   0,   0,   0,   0,   0,   0,   0,   0,   0,   0,   0,   0,\n",
       "          0,   0],\n",
       "       [  0,   0,   0,   0,   0,   0,   0,   0,   0,   0,   0,   0,   0,\n",
       "          0,   0,   0,   0,   0,   0,   0,  67, 232,  39,   0,   0,   0,\n",
       "          0,   0],\n",
       "       [  0,   0,   0,   0,  62,  81,   0,   0,   0,   0,   0,   0,   0,\n",
       "          0,   0,   0,   0,   0,   0,   0, 120, 180,  39,   0,   0,   0,\n",
       "          0,   0],\n",
       "       [  0,   0,   0,   0, 126, 163,   0,   0,   0,   0,   0,   0,   0,\n",
       "          0,   0,   0,   0,   0,   0,   2, 153, 210,  40,   0,   0,   0,\n",
       "          0,   0],\n",
       "       [  0,   0,   0,   0, 220, 163,   0,   0,   0,   0,   0,   0,   0,\n",
       "          0,   0,   0,   0,   0,   0,  27, 254, 162,   0,   0,   0,   0,\n",
       "          0,   0],\n",
       "       [  0,   0,   0,   0, 222, 163,   0,   0,   0,   0,   0,   0,   0,\n",
       "          0,   0,   0,   0,   0,   0, 183, 254, 125,   0,   0,   0,   0,\n",
       "          0,   0],\n",
       "       [  0,   0,   0,  46, 245, 163,   0,   0,   0,   0,   0,   0,   0,\n",
       "          0,   0,   0,   0,   0,   0, 198, 254,  56,   0,   0,   0,   0,\n",
       "          0,   0],\n",
       "       [  0,   0,   0, 120, 254, 163,   0,   0,   0,   0,   0,   0,   0,\n",
       "          0,   0,   0,   0,   0,  23, 231, 254,  29,   0,   0,   0,   0,\n",
       "          0,   0],\n",
       "       [  0,   0,   0, 159, 254, 120,   0,   0,   0,   0,   0,   0,   0,\n",
       "          0,   0,   0,   0,   0, 163, 254, 216,  16,   0,   0,   0,   0,\n",
       "          0,   0],\n",
       "       [  0,   0,   0, 159, 254,  67,   0,   0,   0,   0,   0,   0,   0,\n",
       "          0,   0,  14,  86, 178, 248, 254,  91,   0,   0,   0,   0,   0,\n",
       "          0,   0],\n",
       "       [  0,   0,   0, 159, 254,  85,   0,   0,   0,  47,  49, 116, 144,\n",
       "        150, 241, 243, 234, 179, 241, 252,  40,   0,   0,   0,   0,   0,\n",
       "          0,   0],\n",
       "       [  0,   0,   0, 150, 253, 237, 207, 207, 207, 253, 254, 250, 240,\n",
       "        198, 143,  91,  28,   5, 233, 250,   0,   0,   0,   0,   0,   0,\n",
       "          0,   0],\n",
       "       [  0,   0,   0,   0, 119, 177, 177, 177, 177, 177,  98,  56,   0,\n",
       "          0,   0,   0,   0, 102, 254, 220,   0,   0,   0,   0,   0,   0,\n",
       "          0,   0],\n",
       "       [  0,   0,   0,   0,   0,   0,   0,   0,   0,   0,   0,   0,   0,\n",
       "          0,   0,   0,   0, 169, 254, 137,   0,   0,   0,   0,   0,   0,\n",
       "          0,   0],\n",
       "       [  0,   0,   0,   0,   0,   0,   0,   0,   0,   0,   0,   0,   0,\n",
       "          0,   0,   0,   0, 169, 254,  57,   0,   0,   0,   0,   0,   0,\n",
       "          0,   0],\n",
       "       [  0,   0,   0,   0,   0,   0,   0,   0,   0,   0,   0,   0,   0,\n",
       "          0,   0,   0,   0, 169, 254,  57,   0,   0,   0,   0,   0,   0,\n",
       "          0,   0],\n",
       "       [  0,   0,   0,   0,   0,   0,   0,   0,   0,   0,   0,   0,   0,\n",
       "          0,   0,   0,   0, 169, 255,  94,   0,   0,   0,   0,   0,   0,\n",
       "          0,   0],\n",
       "       [  0,   0,   0,   0,   0,   0,   0,   0,   0,   0,   0,   0,   0,\n",
       "          0,   0,   0,   0, 169, 254,  96,   0,   0,   0,   0,   0,   0,\n",
       "          0,   0],\n",
       "       [  0,   0,   0,   0,   0,   0,   0,   0,   0,   0,   0,   0,   0,\n",
       "          0,   0,   0,   0, 169, 254, 153,   0,   0,   0,   0,   0,   0,\n",
       "          0,   0],\n",
       "       [  0,   0,   0,   0,   0,   0,   0,   0,   0,   0,   0,   0,   0,\n",
       "          0,   0,   0,   0, 169, 255, 153,   0,   0,   0,   0,   0,   0,\n",
       "          0,   0],\n",
       "       [  0,   0,   0,   0,   0,   0,   0,   0,   0,   0,   0,   0,   0,\n",
       "          0,   0,   0,   0,  96, 254, 153,   0,   0,   0,   0,   0,   0,\n",
       "          0,   0],\n",
       "       [  0,   0,   0,   0,   0,   0,   0,   0,   0,   0,   0,   0,   0,\n",
       "          0,   0,   0,   0,   0,   0,   0,   0,   0,   0,   0,   0,   0,\n",
       "          0,   0],\n",
       "       [  0,   0,   0,   0,   0,   0,   0,   0,   0,   0,   0,   0,   0,\n",
       "          0,   0,   0,   0,   0,   0,   0,   0,   0,   0,   0,   0,   0,\n",
       "          0,   0],\n",
       "       [  0,   0,   0,   0,   0,   0,   0,   0,   0,   0,   0,   0,   0,\n",
       "          0,   0,   0,   0,   0,   0,   0,   0,   0,   0,   0,   0,   0,\n",
       "          0,   0]])"
      ]
     },
     "execution_count": 5,
     "metadata": {},
     "output_type": "execute_result"
    }
   ],
   "source": [
    "images_label.head(2)\n",
    "img = train_dataframe.iloc[2][1:]\n",
    "image = np.array(img)\n",
    "image = np.reshape(image,(28,28))\n",
    "image"
   ]
  },
  {
   "cell_type": "code",
   "execution_count": 6,
   "id": "d3f9efa7",
   "metadata": {},
   "outputs": [
    {
     "data": {
      "text/plain": [
       "<matplotlib.image.AxesImage at 0x7f82c073ca60>"
      ]
     },
     "execution_count": 6,
     "metadata": {},
     "output_type": "execute_result"
    },
    {
     "data": {
      "image/png": "[encoded data removed]",
      "text/plain": [
       "<Figure size 432x288 with 1 Axes>"
      ]
     },
     "metadata": {
      "needs_background": "light"
     },
     "output_type": "display_data"
    }
   ],
   "source": [
    "# from PIL import Image\n",
    "# PIL_image = Image.fromarray(image.astype('uint8'), 'RGB')\n",
    "ax = plt.subplot()\n",
    "ax.imshow(image)"
   ]
  },
  {
   "cell_type": "code",
   "execution_count": 16,
   "id": "760b2afd",
   "metadata": {},
   "outputs": [
    {
     "data": {
      "text/plain": [
       "array([7, 2, 1, 0, 4, 1, 4, 9, 5, 9, 0, 6, 9, 0, 1])"
      ]
     },
     "execution_count": 16,
     "metadata": {},
     "output_type": "execute_result"
    }
   ],
   "source": [
    "train_data = train_dataframe.iloc[:,1:]\n",
    "train_data\n",
    "train_label = train_dataframe.iloc[:,0]\n",
    "train_label\n",
    "from sklearn import neighbors\n",
    "knn = neighbors.KNeighborsClassifier(3).fit(train_data,train_label)\n",
    "x = knn.predict(test_data.iloc[:1000])\n",
    "x[:15]"
   ]
  },
  {
   "cell_type": "code",
   "execution_count": 17,
   "id": "8c0f58e0",
   "metadata": {},
   "outputs": [
    {
     "data": {
      "text/plain": [
       "array([[ 7, 11,  8, 14, 10,  2, 11, 11, 14,  9],\n",
       "       [ 7, 13, 10, 17, 15, 18,  5,  6, 13, 12],\n",
       "       [ 6, 14, 11, 10, 10, 10, 10,  9, 10,  9],\n",
       "       [11, 11, 15,  7, 12,  8,  7,  6,  8,  8],\n",
       "       [13, 17,  7, 13,  8,  7,  8, 10,  9, 13],\n",
       "       [ 3, 13, 19,  7, 12,  7,  9,  9,  9,  4],\n",
       "       [ 9,  9, 14,  9, 10, 10,  9,  9,  4, 11],\n",
       "       [15, 12, 11, 11,  9,  8, 10, 22,  4, 15],\n",
       "       [ 6, 13,  9, 10, 10,  9, 13,  8,  4,  5],\n",
       "       [ 8, 13, 12,  9, 14,  8,  5,  9, 14,  8]])"
      ]
     },
     "execution_count": 17,
     "metadata": {},
     "output_type": "execute_result"
    }
   ],
   "source": [
    "from sklearn.metrics import confusion_matrix\n",
    "confusion_matrix(train_label[:1000],test_label[:1000])\n"
   ]
  },
  {
   "cell_type": "code",
   "execution_count": 18,
   "id": "3f060f16",
   "metadata": {},
   "outputs": [
    {
     "data": {
      "image/png": "[encoded data removed]",
      "text/plain": [
       "<Figure size 432x288 with 2 Axes>"
      ]
     },
     "metadata": {
      "needs_background": "light"
     },
     "output_type": "display_data"
    }
   ],
   "source": [
    "from sklearn.svm import SVC\n",
    "from sklearn.metrics import confusion_matrix, ConfusionMatrixDisplay\n",
    "clf = SVC(random_state=0)\n",
    "# clf.fit(train_data,test_data)\n",
    "cm = confusion_matrix(test_label.iloc[:1000], x)\n",
    "disp = ConfusionMatrixDisplay(confusion_matrix=cm)\n",
    "disp.plot()\n",
    "plt.show()"
   ]
  },
  {
   "cell_type": "code",
   "execution_count": 19,
   "id": "f65e07e7",
   "metadata": {},
   "outputs": [
    {
     "data": {
      "text/plain": [
       "0.985"
      ]
     },
     "execution_count": 19,
     "metadata": {},
     "output_type": "execute_result"
    }
   ],
   "source": [
    "knn.score(test_data[:200],test_label[:200])"
   ]
  }
 ],
 "metadata": {
  "kernelspec": {
   "display_name": "Python 3 (ipykernel)",
   "language": "python",
   "name": "python3"
  },
  "language_info": {
   "codemirror_mode": {
    "name": "ipython",
    "version": 3
   },
   "file_extension": ".py",
   "mimetype": "text/x-python",
   "name": "python",
   "nbconvert_exporter": "python",
   "pygments_lexer": "ipython3",
   "version": "3.9.7"
  }
 },
 "nbformat": 4,
 "nbformat_minor": 5
}
